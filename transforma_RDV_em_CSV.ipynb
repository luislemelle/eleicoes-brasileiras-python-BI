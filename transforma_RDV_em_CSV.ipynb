{
  "nbformat": 4,
  "nbformat_minor": 0,
  "metadata": {
    "colab": {
      "provenance": [],
      "toc_visible": true,
      "authorship_tag": "ABX9TyMfFUf785tHUORYRzsgputT",
      "include_colab_link": true
    },
    "kernelspec": {
      "name": "python3",
      "display_name": "Python 3"
    },
    "language_info": {
      "name": "python"
    }
  },
  "cells": [
    {
      "cell_type": "markdown",
      "metadata": {
        "id": "view-in-github",
        "colab_type": "text"
      },
      "source": [
        "<a href=\"https://colab.research.google.com/github/luislemelle/projetos-python/blob/main/transforma_RDV_em_CSV.ipynb\" target=\"_parent\"><img src=\"https://colab.research.google.com/assets/colab-badge.svg\" alt=\"Open In Colab\"/></a>"
      ]
    },
    {
      "cell_type": "code",
      "source": [
        "!pip install asn1crypto==1.5.1"
      ],
      "metadata": {
        "colab": {
          "base_uri": "https://localhost:8080/"
        },
        "id": "nID4FMb4Y4ka",
        "outputId": "f44bdd6a-b865-48a2-9cc9-ff89b4530068"
      },
      "execution_count": 2,
      "outputs": [
        {
          "output_type": "stream",
          "name": "stdout",
          "text": [
            "Looking in indexes: https://pypi.org/simple, https://us-python.pkg.dev/colab-wheels/public/simple/\n",
            "Collecting asn1crypto==1.5.1\n",
            "  Downloading asn1crypto-1.5.1-py2.py3-none-any.whl (105 kB)\n",
            "\u001b[K     |████████████████████████████████| 105 kB 25.5 MB/s \n",
            "\u001b[?25hInstalling collected packages: asn1crypto\n",
            "Successfully installed asn1crypto-1.5.1\n"
          ]
        }
      ]
    },
    {
      "cell_type": "code",
      "source": [
        "!python rdv_resumo.py -r saojosedoscampos0412-0011.rdv > saojosedoscampos0412-0011.txt\n",
        "!python rdv_resumo.py -r saojosedoscampos0412-0495.rdv > saojosedoscampos0412-0495.txt\n",
        "!python rdv_resumo.py -r saocarlos0121-0029.rdv > saocarlos0121-0029.txt\n",
        "!python rdv_resumo.py -r saocarlos0121-0036.rdv > saocarlos0121-0036.txt"
      ],
      "metadata": {
        "colab": {
          "base_uri": "https://localhost:8080/"
        },
        "id": "4Fg9ssv6Y6GB",
        "outputId": "f22a2753-8e79-4e5a-ee45-afd476a001d9"
      },
      "execution_count": 6,
      "outputs": [
        {
          "output_type": "stream",
          "name": "stdout",
          "text": [
            "2022-12-19 02:35:08,161 - INFO - Converte RDV saojosedoscampos0412-0011.rdv\n",
            "2022-12-19 02:35:08,396 - INFO - Converte RDV saojosedoscampos0412-0495.rdv\n",
            "2022-12-19 02:35:08,629 - INFO - Converte RDV saocarlos0121-0029.rdv\n",
            "2022-12-19 02:35:08,841 - INFO - Converte RDV saocarlos0121-0036.rdv\n"
          ]
        }
      ]
    },
    {
      "cell_type": "code",
      "source": [
        "import pandas as pd\n",
        "from os import chdir, getcwd, listdir\n",
        "from os.path import isfile\n",
        "from google.colab import files"
      ],
      "metadata": {
        "id": "OsFGnJcycYUr"
      },
      "execution_count": 8,
      "outputs": []
    },
    {
      "cell_type": "code",
      "source": [
        "\n",
        "for arq in listdir():\n",
        "    if isfile(arq):\n",
        "       if '.txt' in arq:\n",
        "         print(arq[-13:-9])\n",
        "         print(arq[-8:-4])\n",
        "         print(arq)"
      ],
      "metadata": {
        "colab": {
          "base_uri": "https://localhost:8080/"
        },
        "id": "1mpVMu2fPl4N",
        "outputId": "2a172440-f4f7-46c8-c28f-ed7cbd37a1b6"
      },
      "execution_count": 20,
      "outputs": [
        {
          "output_type": "stream",
          "name": "stdout",
          "text": [
            "0121\n",
            "0036\n",
            "saocarlos0121-0036.txt\n",
            "0412\n",
            "0011\n",
            "saojosedoscampos0412-0011.txt\n",
            "0121\n",
            "0029\n",
            "saocarlos0121-0029.txt\n",
            "0412\n",
            "0495\n",
            "saojosedoscampos0412-0495.txt\n"
          ]
        }
      ]
    },
    {
      "cell_type": "code",
      "source": [
        "df = pd.DataFrame(columns=['Deputado',\n",
        "                           'Tipo',\n",
        "                           'partido',\n",
        "                           'sessao',\n",
        "                           'zona'])\n",
        "i=1\n",
        "\n",
        "for arq in listdir():\n",
        "    if isfile(arq):\n",
        "       if '.txt' in arq:\n",
        "           with open(arq, 'r') as arquivo:\n",
        "             rdv = arquivo.readlines()\n",
        "           governador=0\n",
        "           \n",
        "           for line in rdv:\n",
        "             if 'Governador\\n' in line:\n",
        "               governador=1\n",
        "             if governador==1:    \n",
        "                 if 'nominal  - [13]' in line:\n",
        "                    df = df.append(pd.DataFrame({'Deputado':'Fernando Haddad',\n",
        "                                           'Tipo':'Governador',\n",
        "                                           'partido':'13',\n",
        "                                           'sessao':arq[-8:-4],\n",
        "                                           'zona':arq[-13:-9]}, index=[i]))\n",
        "           \n",
        "                 elif 'nominal  - [10]' in line:\n",
        "                    df = df.append(pd.DataFrame({'Deputado':'Tarcisio',\n",
        "                                           'Tipo':'Governador',\n",
        "                                           'partido':'10',\n",
        "                                           'sessao':arq[-8:-4],\n",
        "                                           'zona':arq[-13:-9]}, index=[i]))\n",
        "                 elif 'branco' in line:\n",
        "                     df = df.append(pd.DataFrame({'Deputado':'Voto Branco',\n",
        "                                           'Tipo':'Governador',\n",
        "                                           'partido':'00',\n",
        "                                           'sessao':arq[-8:-4],\n",
        "                                           'zona':arq[-13:-9]}, index=[i]))\n",
        "                     \n",
        "                 elif 'nulo' in line:\n",
        "                     df = df.append(pd.DataFrame({'Deputado':'Voto Nulo',\n",
        "                                           'Tipo':'Governador',\n",
        "                                           'partido':'99',\n",
        "                                           'sessao':arq[-8:-4],\n",
        "                                           'zona':arq[-13:-9]}, index=[i]))\n",
        "                 else:\n",
        "                   print('linha remover')                \n",
        "             elif 'nominal  - [13]' in line:\n",
        "               df = df.append(pd.DataFrame({'Deputado':'Lula',\n",
        "                                           'Tipo':'Presidente',\n",
        "                                           'partido':'13',\n",
        "                                           'sessao':arq[-8:-4],\n",
        "                                           'zona':arq[-13:-9]}, index=[i]))\n",
        "           \n",
        "             elif 'nominal  - [22]' in line:\n",
        "               df = df.append(pd.DataFrame({'Deputado':'Bolsonaro',\n",
        "                                           'Tipo':'Presidente',\n",
        "                                           'partido':'22',\n",
        "                                           'sessao':arq[-8:-4],\n",
        "                                           'zona':arq[-13:-9]}, index=[i]))  \n",
        "             elif 'branco' in line:\n",
        "               df = df.append(pd.DataFrame({'Deputado':'Voto em Branco',\n",
        "                                           'Tipo':'Presidente',\n",
        "                                           'partido':'00',\n",
        "                                           'sessao':arq[-8:-4],\n",
        "                                           'zona':arq[-13:-9]}, index=[i]))  \n",
        "              \n",
        "             elif 'nulo' in line:\n",
        "               df = df.append(pd.DataFrame({'Deputado':'Voto Nulo',\n",
        "                                           'Tipo':'Presidente',\n",
        "                                           'partido':'99',\n",
        "                                           'sessao':arq[-8:-4],\n",
        "                                           'zona':arq[-13:-9]}, index=[i]))  \n",
        "           \n",
        "             else:\n",
        "               print('linha remover')\n",
        "             i=+1        \n",
        "df =df.reset_index()\n",
        "df=df.drop([\"index\"], axis=1)   \n"
      ],
      "metadata": {
        "colab": {
          "base_uri": "https://localhost:8080/"
        },
        "id": "2q7FInk-ccjk",
        "outputId": "56ee7dce-067d-4468-a665-3777ef1e98cb"
      },
      "execution_count": 21,
      "outputs": [
        {
          "output_type": "stream",
          "name": "stdout",
          "text": [
            "linha remover\n",
            "linha remover\n",
            "linha remover\n",
            "linha remover\n",
            "linha remover\n",
            "linha remover\n",
            "linha remover\n",
            "linha remover\n",
            "linha remover\n",
            "linha remover\n",
            "linha remover\n",
            "linha remover\n",
            "linha remover\n",
            "linha remover\n",
            "linha remover\n",
            "linha remover\n",
            "linha remover\n",
            "linha remover\n",
            "linha remover\n",
            "linha remover\n",
            "linha remover\n",
            "linha remover\n",
            "linha remover\n",
            "linha remover\n"
          ]
        }
      ]
    },
    {
      "cell_type": "code",
      "source": [
        "df.to_csv('votos_sessao.csv', encoding = 'utf-8-sig') \n",
        "files.download('votos_sessao.csv')"
      ],
      "metadata": {
        "colab": {
          "base_uri": "https://localhost:8080/",
          "height": 17
        },
        "id": "OM9DSUD0cmk6",
        "outputId": "409be688-ebda-4b1c-c1e5-dd7a5c4a6e34"
      },
      "execution_count": 22,
      "outputs": [
        {
          "output_type": "display_data",
          "data": {
            "text/plain": [
              "<IPython.core.display.Javascript object>"
            ],
            "application/javascript": [
              "\n",
              "    async function download(id, filename, size) {\n",
              "      if (!google.colab.kernel.accessAllowed) {\n",
              "        return;\n",
              "      }\n",
              "      const div = document.createElement('div');\n",
              "      const label = document.createElement('label');\n",
              "      label.textContent = `Downloading \"${filename}\": `;\n",
              "      div.appendChild(label);\n",
              "      const progress = document.createElement('progress');\n",
              "      progress.max = size;\n",
              "      div.appendChild(progress);\n",
              "      document.body.appendChild(div);\n",
              "\n",
              "      const buffers = [];\n",
              "      let downloaded = 0;\n",
              "\n",
              "      const channel = await google.colab.kernel.comms.open(id);\n",
              "      // Send a message to notify the kernel that we're ready.\n",
              "      channel.send({})\n",
              "\n",
              "      for await (const message of channel.messages) {\n",
              "        // Send a message to notify the kernel that we're ready.\n",
              "        channel.send({})\n",
              "        if (message.buffers) {\n",
              "          for (const buffer of message.buffers) {\n",
              "            buffers.push(buffer);\n",
              "            downloaded += buffer.byteLength;\n",
              "            progress.value = downloaded;\n",
              "          }\n",
              "        }\n",
              "      }\n",
              "      const blob = new Blob(buffers, {type: 'application/binary'});\n",
              "      const a = document.createElement('a');\n",
              "      a.href = window.URL.createObjectURL(blob);\n",
              "      a.download = filename;\n",
              "      div.appendChild(a);\n",
              "      a.click();\n",
              "      div.remove();\n",
              "    }\n",
              "  "
            ]
          },
          "metadata": {}
        },
        {
          "output_type": "display_data",
          "data": {
            "text/plain": [
              "<IPython.core.display.Javascript object>"
            ],
            "application/javascript": [
              "download(\"download_5bebe634-0007-4a9d-9a45-03fc0f7ae2df\", \"votos_sessao.csv\", 68517)"
            ]
          },
          "metadata": {}
        }
      ]
    }
  ]
}